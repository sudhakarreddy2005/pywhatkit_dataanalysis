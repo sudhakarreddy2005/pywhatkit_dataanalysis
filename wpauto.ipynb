{
 "cells": [
  {
   "cell_type": "code",
   "execution_count": 2,
   "id": "2978173f-34fe-44f5-9a8d-e83696bd71c4",
   "metadata": {},
   "outputs": [],
   "source": [
    "# !pip install pywhatkit"
   ]
  },
  {
   "cell_type": "code",
   "execution_count": 3,
   "id": "53052181-62e5-4c02-9beb-ba52739824c4",
   "metadata": {},
   "outputs": [],
   "source": [
    "import pywhatkit as pwk\n",
    "import os \n",
    "import matplotlib.pyplot as plt\n",
    "import seaborn as sns\n",
    "from datetime import datetime\n",
    "import pandas as pd"
   ]
  },
  {
   "cell_type": "code",
   "execution_count": 4,
   "id": "3ed84661-c71f-4219-ae4f-0d97086db1ec",
   "metadata": {},
   "outputs": [],
   "source": [
    "log_file = 'logfile.csv'"
   ]
  },
  {
   "cell_type": "code",
   "execution_count": 5,
   "id": "843603ce-86fd-459b-afeb-6d3452cd9af2",
   "metadata": {},
   "outputs": [],
   "source": [
    "choice = True"
   ]
  },
  {
   "cell_type": "code",
   "execution_count": 6,
   "id": "3195fbed-693d-4b8d-b870-933c7289d285",
   "metadata": {},
   "outputs": [],
   "source": [
    "\n",
    "def log_action(receiver,status,message):\n",
    "    \n",
    "    nonempty_bool = os.path.exists('logfile.csv') and os.path.getsize('logfile.csv') > 0\n",
    "    \n",
    "    if nonempty_bool :\n",
    "        df = pd.read_csv('logfile.csv')\n",
    "        \n",
    "    else:\n",
    "        df = pd.DataFrame(columns = ['timestamp','receiver','status','message'])\n",
    "\n",
    "        \n",
    "    new_row = {\n",
    "        'timestamp' :datetime.now().strftime(\"%Y-%m-%d %H:%M:%S\"),\n",
    "        'receiver':receiver,\n",
    "        'status':status,\n",
    "        'message':message\n",
    "    }\n",
    "\n",
    "   \n",
    "    \n",
    "    df = pd.concat([df,pd.DataFrame([new_row])],ignore_index = True,axis = 0)\n",
    "    df.to_csv('logfile.csv',index = False)\n",
    "\n",
    "    "
   ]
  },
  {
   "cell_type": "code",
   "execution_count": 7,
   "id": "d9877eec-d65d-47dc-892e-04c9b08fb6a6",
   "metadata": {},
   "outputs": [],
   "source": [
    "try:\n",
    "    def delete_logs():\n",
    "        try:\n",
    "            empty_df = df[0:0] #it has only structure  without data\n",
    "            dell = int(input('do you want to clear logs press 0 to cancel and 1 to delete '))\n",
    "            if dell :\n",
    "                # print(type(df))\n",
    "                empty_df.to_csv('logfile.csv',index = False) #overwritting to seem as deletion\n",
    "                print('succesfully cleared logs')\n",
    "            else:\n",
    "                print('deleteiton cacncleed')\n",
    "        except Exception as e:\n",
    "            print('Message sent failed')\n",
    "        \n",
    "    def input_data():\n",
    "        try:\n",
    "            data = list(map(str,input('enter  phone +951586xxx1 and message in __form__: ').split()))\n",
    "            if len(data[0])==13:\n",
    "                receiver_ph = data[0]\n",
    "                message_ph = data[1]\n",
    "                return receiver_ph,message_ph\n",
    "            else :\n",
    "                print('enter phone number properly')\n",
    "        except Exception as e:\n",
    "            print('error occured make sure while entering')\n",
    "    \n",
    "            \n",
    "         \n",
    "    def instantly_message():\n",
    "        # instantly message\n",
    "        try:\n",
    "            receiver_ph,message_ph = input_data()\n",
    "            pwk.sendwhatmsg_instantly(phone_no=receiver_ph,\n",
    "                                      message=message_ph,\n",
    "                                      wait_time=10)\n",
    "            log_action(receiver =receiver_ph ,status='sent',message=message_ph)\n",
    "        except Exception as e:\n",
    "            print('Message sent failed')\n",
    "    \n",
    "    \n",
    "    \n",
    "    def waittime_message():\n",
    "    # waittime message\n",
    "        try:\n",
    "            receiver_ph,message_ph = input_data()\n",
    "            now = datetime.now()\n",
    "            now_hour, now_minute = now.hour, now.minute\n",
    "            pwk.sendwhatmsg(\n",
    "                phone_no=receiver_ph,\n",
    "                message=message_ph,\n",
    "                time_hour=now_hour,\n",
    "                time_min=now_minute + 2,\n",
    "                wait_time=12\n",
    "            )\n",
    "            log_action(receiver=receiver_ph, status='sent', message=message_ph)\n",
    "        except Exception as e:\n",
    "            print('Message sent failed')\n",
    "    \n",
    "        \n",
    "    def instantly_image():\n",
    "        # instantly image\n",
    "        try:\n",
    "            receiver_ph,message_ph = input_data()\n",
    "            pwk.sendwhats_image(receiver=receiver_ph,\n",
    "                                img_path=r'C:\\Users\\sudha\\EDUCATION\\MINE A9\\ganesh.jpg',\n",
    "                                wait_time=12,\n",
    "                                caption = message_ph+'pic'\n",
    "                               )\n",
    "            log_action(receiver =receiver_ph ,status='sent',message=message_ph)\n",
    "        except Exception as e:\n",
    "            print('Message sent failed')\n",
    "    \n",
    "     \n",
    "    def waittime_message_group():\n",
    "        # mesaage to group waittime\n",
    "        try:\n",
    "            message_ph = input('enter message to group')\n",
    "            group_idd ='120363307866401933@g.us'\n",
    "            now = datetime.now()\n",
    "            now_hour, now_minute = now.hour, now.minute\n",
    "            pwk.sendwhatmsg_to_group(group_id=group_idd,message=message_ph,time_hour=now_hour,time_min=now_minute+1)\n",
    "            log_action(receiver =group_idd ,status='sent',message=message_ph)\n",
    "        except Exception as e:\n",
    "            print('Message sent failed')\n",
    "    \n",
    "    def multiplemessages(message_phhh):\n",
    "        try:\n",
    "            for i in message_phhh:\n",
    "                receiver_ph = input('enter receiver_ph +9195xxxxxxx81: ')\n",
    "                pwk.sendwhatmsg_instantly(phone_no=receiver_ph,\n",
    "                                          message=i,\n",
    "                                          wait_time=12)\n",
    "                log_action(receiver =receiver_ph ,status='sent',message=i)\n",
    "        except Exception as e:\n",
    "                print('Message sent failed')\n",
    "    \n",
    "except Exception as e:\n",
    "    print('Message sent failed')"
   ]
  },
  {
   "cell_type": "code",
   "execution_count": 8,
   "id": "69fdfbf5-5922-47ac-a017-3d6be1d1e585",
   "metadata": {},
   "outputs": [
    {
     "name": "stdout",
     "output_type": "stream",
     "text": [
      "Choose an option:\n",
      "1. Instantly message\n",
      "2. Waittime Message\n",
      "3. Instantly Send Image\n",
      "4. Group Waittime Message\n",
      "5. Multiple Messages\n",
      "6. Delete logs\n"
     ]
    },
    {
     "name": "stdout",
     "output_type": "stream",
     "text": [
      "Enter choice (1-6):  0\n"
     ]
    },
    {
     "name": "stdout",
     "output_type": "stream",
     "text": [
      "Invalid choice (1-6)\n"
     ]
    },
    {
     "name": "stdout",
     "output_type": "stream",
     "text": [
      "enter 0 to quit and 1 for continue: 0\n"
     ]
    }
   ],
   "source": [
    "while(choice):\n",
    "    \n",
    "    print(\"Choose an option:\")\n",
    "    print(\"1. Instantly message\")\n",
    "    print(\"2. Waittime Message\")\n",
    "    print(\"3. Instantly Send Image\")\n",
    "    print(\"4. Group Waittime Message\")\n",
    "    print(\"5. Multiple Messages\")\n",
    "    print(\"6. Delete logs\")\n",
    "    \n",
    "    choiceee = int(input(\"Enter choice (1-6): \").strip())\n",
    "    match choiceee:\n",
    "        case 1:\n",
    "            instantly_message()\n",
    "        case 2:\n",
    "            waittime_message()\n",
    "        case 3:\n",
    "            instantly_image()\n",
    "        case 4:\n",
    "            waittime_message_group()\n",
    "        case 5:\n",
    "             mul_mess = list(map(str,input('enter multiple messagess with spaces ').split()))\n",
    "             multiplemessages(mul_mess)\n",
    "        case 6:\n",
    "            delete_logs()\n",
    "        case _:\n",
    "            print(\"Invalid choice (1-6)\")\n",
    "\n",
    "    \n",
    "    try:\n",
    "        choice = int(input('enter 0 to quit and 1 for continue:'))\n",
    "    except Exception as e:\n",
    "        print('an error occured run againn')\n",
    "    "
   ]
  },
  {
   "cell_type": "markdown",
   "id": "6ffab96d-0f00-46e4-a5ed-051a580ee7f1",
   "metadata": {},
   "source": [
    "## EDA to logfile.csv"
   ]
  },
  {
   "cell_type": "code",
   "execution_count": 9,
   "id": "8e0b3544-19d7-46c3-a8f2-a073025ddab9",
   "metadata": {},
   "outputs": [],
   "source": [
    "df_log = pd.read_csv('logfile.csv')"
   ]
  },
  {
   "cell_type": "code",
   "execution_count": 10,
   "id": "6f2e9ce4-1c86-46af-a56f-2e68c11f96bb",
   "metadata": {},
   "outputs": [
    {
     "data": {
      "text/plain": [
       "Index(['timestamp', 'receiver', 'status', 'message'], dtype='object')"
      ]
     },
     "execution_count": 10,
     "metadata": {},
     "output_type": "execute_result"
    }
   ],
   "source": [
    "df_log.columns"
   ]
  },
  {
   "cell_type": "code",
   "execution_count": 11,
   "id": "60769e76-c255-4fbe-8505-468ee2a72f84",
   "metadata": {},
   "outputs": [
    {
     "data": {
      "text/plain": [
       "(420000, 4)"
      ]
     },
     "execution_count": 11,
     "metadata": {},
     "output_type": "execute_result"
    }
   ],
   "source": [
    "df_log.shape"
   ]
  },
  {
   "cell_type": "code",
   "execution_count": 12,
   "id": "b5fb6829-13b3-4d3b-88cf-6f1482ffd0f8",
   "metadata": {},
   "outputs": [
    {
     "data": {
      "text/plain": [
       "timestamp    object\n",
       "receiver      int64\n",
       "status       object\n",
       "message      object\n",
       "dtype: object"
      ]
     },
     "execution_count": 12,
     "metadata": {},
     "output_type": "execute_result"
    }
   ],
   "source": [
    "df_log.dtypes"
   ]
  },
  {
   "cell_type": "code",
   "execution_count": 13,
   "id": "976f1416-c3d1-4d70-88c0-34769ddc3efa",
   "metadata": {},
   "outputs": [
    {
     "data": {
      "text/html": [
       "<div>\n",
       "<style scoped>\n",
       "    .dataframe tbody tr th:only-of-type {\n",
       "        vertical-align: middle;\n",
       "    }\n",
       "\n",
       "    .dataframe tbody tr th {\n",
       "        vertical-align: top;\n",
       "    }\n",
       "\n",
       "    .dataframe thead th {\n",
       "        text-align: right;\n",
       "    }\n",
       "</style>\n",
       "<table border=\"1\" class=\"dataframe\">\n",
       "  <thead>\n",
       "    <tr style=\"text-align: right;\">\n",
       "      <th></th>\n",
       "      <th>timestamp</th>\n",
       "      <th>receiver</th>\n",
       "      <th>status</th>\n",
       "      <th>message</th>\n",
       "    </tr>\n",
       "  </thead>\n",
       "  <tbody>\n",
       "    <tr>\n",
       "      <th>0</th>\n",
       "      <td>31-08-2025 13:41</td>\n",
       "      <td>919029218309</td>\n",
       "      <td>sent</td>\n",
       "      <td>hey</td>\n",
       "    </tr>\n",
       "    <tr>\n",
       "      <th>1</th>\n",
       "      <td>02-09-2025 01:10</td>\n",
       "      <td>919961192402</td>\n",
       "      <td>sent</td>\n",
       "      <td>hey</td>\n",
       "    </tr>\n",
       "    <tr>\n",
       "      <th>2</th>\n",
       "      <td>08-09-2025 03:30</td>\n",
       "      <td>918135002971</td>\n",
       "      <td>sent</td>\n",
       "      <td>okay</td>\n",
       "    </tr>\n",
       "    <tr>\n",
       "      <th>3</th>\n",
       "      <td>07-09-2025 20:21</td>\n",
       "      <td>918436776046</td>\n",
       "      <td>sent</td>\n",
       "      <td>sure</td>\n",
       "    </tr>\n",
       "    <tr>\n",
       "      <th>4</th>\n",
       "      <td>19-09-2025 09:58</td>\n",
       "      <td>917687887037</td>\n",
       "      <td>sent</td>\n",
       "      <td>bye</td>\n",
       "    </tr>\n",
       "    <tr>\n",
       "      <th>...</th>\n",
       "      <td>...</td>\n",
       "      <td>...</td>\n",
       "      <td>...</td>\n",
       "      <td>...</td>\n",
       "    </tr>\n",
       "    <tr>\n",
       "      <th>419995</th>\n",
       "      <td>05-09-2025 19:10</td>\n",
       "      <td>917892499523</td>\n",
       "      <td>sent</td>\n",
       "      <td>sorry</td>\n",
       "    </tr>\n",
       "    <tr>\n",
       "      <th>419996</th>\n",
       "      <td>10-09-2025 07:44</td>\n",
       "      <td>919141286955</td>\n",
       "      <td>sent</td>\n",
       "      <td>congrats</td>\n",
       "    </tr>\n",
       "    <tr>\n",
       "      <th>419997</th>\n",
       "      <td>08-09-2025 16:35</td>\n",
       "      <td>918000433252</td>\n",
       "      <td>sent</td>\n",
       "      <td>hello</td>\n",
       "    </tr>\n",
       "    <tr>\n",
       "      <th>419998</th>\n",
       "      <td>20-09-2025 15:15</td>\n",
       "      <td>917207926565</td>\n",
       "      <td>sent</td>\n",
       "      <td>good_evening</td>\n",
       "    </tr>\n",
       "    <tr>\n",
       "      <th>419999</th>\n",
       "      <td>30-08-2025 16:19</td>\n",
       "      <td>917385888899</td>\n",
       "      <td>sent</td>\n",
       "      <td>hey</td>\n",
       "    </tr>\n",
       "  </tbody>\n",
       "</table>\n",
       "<p>420000 rows × 4 columns</p>\n",
       "</div>"
      ],
      "text/plain": [
       "               timestamp      receiver status       message\n",
       "0       31-08-2025 13:41  919029218309   sent           hey\n",
       "1       02-09-2025 01:10  919961192402   sent           hey\n",
       "2       08-09-2025 03:30  918135002971   sent          okay\n",
       "3       07-09-2025 20:21  918436776046   sent          sure\n",
       "4       19-09-2025 09:58  917687887037   sent           bye\n",
       "...                  ...           ...    ...           ...\n",
       "419995  05-09-2025 19:10  917892499523   sent         sorry\n",
       "419996  10-09-2025 07:44  919141286955   sent      congrats\n",
       "419997  08-09-2025 16:35  918000433252   sent         hello\n",
       "419998  20-09-2025 15:15  917207926565   sent  good_evening\n",
       "419999  30-08-2025 16:19  917385888899   sent           hey\n",
       "\n",
       "[420000 rows x 4 columns]"
      ]
     },
     "execution_count": 13,
     "metadata": {},
     "output_type": "execute_result"
    }
   ],
   "source": [
    "df_log"
   ]
  },
  {
   "cell_type": "markdown",
   "id": "94a387f7-8be9-4f4c-aa42-61d88fe0c185",
   "metadata": {},
   "source": [
    "### datatyoe conversion"
   ]
  },
  {
   "cell_type": "code",
   "execution_count": 14,
   "id": "42c9cf77-055e-407d-8279-cfa61c14c7f3",
   "metadata": {},
   "outputs": [],
   "source": [
    "df_log['timestamp'] = pd.to_datetime( df_log['timestamp'],dayfirst=True, errors='coerce')"
   ]
  },
  {
   "cell_type": "code",
   "execution_count": 15,
   "id": "c42ac2ea-d192-4099-b710-0e9cb4d73cdc",
   "metadata": {},
   "outputs": [
    {
     "data": {
      "text/plain": [
       "dtype('<M8[ns]')"
      ]
     },
     "execution_count": 15,
     "metadata": {},
     "output_type": "execute_result"
    }
   ],
   "source": [
    "df_log['timestamp'].dtypes"
   ]
  },
  {
   "cell_type": "code",
   "execution_count": 16,
   "id": "48625785-be69-4ba7-81c6-6cf78d0e432b",
   "metadata": {},
   "outputs": [],
   "source": [
    "df_log['status'] = df_log['status'].astype('string')"
   ]
  },
  {
   "cell_type": "code",
   "execution_count": 17,
   "id": "59d5ab36-eaa5-4623-90a6-f9a2357f8088",
   "metadata": {},
   "outputs": [
    {
     "data": {
      "text/plain": [
       "string[python]"
      ]
     },
     "execution_count": 17,
     "metadata": {},
     "output_type": "execute_result"
    }
   ],
   "source": [
    "df_log['status'].dtypes"
   ]
  },
  {
   "cell_type": "code",
   "execution_count": 18,
   "id": "ff63a81c-b166-4916-9c12-1bd083d4de46",
   "metadata": {},
   "outputs": [],
   "source": [
    "df_log['receiver'] = df_log['receiver'].astype('string')"
   ]
  },
  {
   "cell_type": "code",
   "execution_count": 19,
   "id": "cf0681e6-18c7-4ca7-bdbc-a2e4514e709b",
   "metadata": {},
   "outputs": [
    {
     "data": {
      "text/plain": [
       "string[python]"
      ]
     },
     "execution_count": 19,
     "metadata": {},
     "output_type": "execute_result"
    }
   ],
   "source": [
    "df_log['receiver'].dtype"
   ]
  },
  {
   "cell_type": "code",
   "execution_count": 20,
   "id": "49452d9a-bfe5-4f16-8a25-0ef7fadce2ac",
   "metadata": {},
   "outputs": [],
   "source": [
    "df_log['message'] = df_log['message'].astype('string')"
   ]
  },
  {
   "cell_type": "code",
   "execution_count": 21,
   "id": "dbe2f77b-dd2e-42fa-a261-827d597e6008",
   "metadata": {},
   "outputs": [
    {
     "data": {
      "text/plain": [
       "string[python]"
      ]
     },
     "execution_count": 21,
     "metadata": {},
     "output_type": "execute_result"
    }
   ],
   "source": [
    "df_log['message'].dtype"
   ]
  },
  {
   "cell_type": "code",
   "execution_count": 22,
   "id": "de6b350a-cf6e-4a5a-a18b-36501d2c0034",
   "metadata": {},
   "outputs": [
    {
     "data": {
      "text/plain": [
       "timestamp    datetime64[ns]\n",
       "receiver     string[python]\n",
       "status       string[python]\n",
       "message      string[python]\n",
       "dtype: object"
      ]
     },
     "execution_count": 22,
     "metadata": {},
     "output_type": "execute_result"
    }
   ],
   "source": [
    "df_log.dtypes"
   ]
  },
  {
   "cell_type": "code",
   "execution_count": 23,
   "id": "c3142715-0ada-4b84-b2da-aef16ef09bc6",
   "metadata": {},
   "outputs": [
    {
     "data": {
      "text/html": [
       "<div>\n",
       "<style scoped>\n",
       "    .dataframe tbody tr th:only-of-type {\n",
       "        vertical-align: middle;\n",
       "    }\n",
       "\n",
       "    .dataframe tbody tr th {\n",
       "        vertical-align: top;\n",
       "    }\n",
       "\n",
       "    .dataframe thead th {\n",
       "        text-align: right;\n",
       "    }\n",
       "</style>\n",
       "<table border=\"1\" class=\"dataframe\">\n",
       "  <thead>\n",
       "    <tr style=\"text-align: right;\">\n",
       "      <th></th>\n",
       "      <th>timestamp</th>\n",
       "      <th>receiver</th>\n",
       "      <th>status</th>\n",
       "      <th>message</th>\n",
       "    </tr>\n",
       "  </thead>\n",
       "  <tbody>\n",
       "    <tr>\n",
       "      <th>0</th>\n",
       "      <td>2025-08-31 13:41:00</td>\n",
       "      <td>919029218309</td>\n",
       "      <td>sent</td>\n",
       "      <td>hey</td>\n",
       "    </tr>\n",
       "    <tr>\n",
       "      <th>1</th>\n",
       "      <td>2025-09-02 01:10:00</td>\n",
       "      <td>919961192402</td>\n",
       "      <td>sent</td>\n",
       "      <td>hey</td>\n",
       "    </tr>\n",
       "    <tr>\n",
       "      <th>2</th>\n",
       "      <td>2025-09-08 03:30:00</td>\n",
       "      <td>918135002971</td>\n",
       "      <td>sent</td>\n",
       "      <td>okay</td>\n",
       "    </tr>\n",
       "    <tr>\n",
       "      <th>3</th>\n",
       "      <td>2025-09-07 20:21:00</td>\n",
       "      <td>918436776046</td>\n",
       "      <td>sent</td>\n",
       "      <td>sure</td>\n",
       "    </tr>\n",
       "    <tr>\n",
       "      <th>4</th>\n",
       "      <td>2025-09-19 09:58:00</td>\n",
       "      <td>917687887037</td>\n",
       "      <td>sent</td>\n",
       "      <td>bye</td>\n",
       "    </tr>\n",
       "  </tbody>\n",
       "</table>\n",
       "</div>"
      ],
      "text/plain": [
       "            timestamp      receiver status message\n",
       "0 2025-08-31 13:41:00  919029218309   sent     hey\n",
       "1 2025-09-02 01:10:00  919961192402   sent     hey\n",
       "2 2025-09-08 03:30:00  918135002971   sent    okay\n",
       "3 2025-09-07 20:21:00  918436776046   sent    sure\n",
       "4 2025-09-19 09:58:00  917687887037   sent     bye"
      ]
     },
     "execution_count": 23,
     "metadata": {},
     "output_type": "execute_result"
    }
   ],
   "source": [
    "df_log.head()"
   ]
  },
  {
   "cell_type": "markdown",
   "id": "fe470d00-8dcc-41e3-aeb4-16b03c986c00",
   "metadata": {},
   "source": [
    "### Check Null values"
   ]
  },
  {
   "cell_type": "code",
   "execution_count": 24,
   "id": "65c867be-111b-4544-97fc-4e286d720796",
   "metadata": {},
   "outputs": [
    {
     "data": {
      "text/plain": [
       "timestamp    0\n",
       "receiver     0\n",
       "status       0\n",
       "message      0\n",
       "dtype: int64"
      ]
     },
     "execution_count": 24,
     "metadata": {},
     "output_type": "execute_result"
    }
   ],
   "source": [
    "df_log.isnull().sum()\n",
    "# clearly there is no null values in dataframe"
   ]
  },
  {
   "cell_type": "code",
   "execution_count": 25,
   "id": "dfb4df88-d4a4-484d-a403-bbe99503dee6",
   "metadata": {},
   "outputs": [
    {
     "data": {
      "text/plain": [
       "message\n",
       "hi               67897\n",
       "hello            54252\n",
       "okay             45292\n",
       "thanks           35901\n",
       "bye              31570\n",
       "sure             26920\n",
       "hey              22448\n",
       "sorry            22356\n",
       "good_morning     18105\n",
       "good_evening     13775\n",
       "see_you_later    13681\n",
       "love_you         13445\n",
       "on_my_way         9134\n",
       "call_me           9063\n",
       "miss_you          9053\n",
       "good_night        8995\n",
       "enjoy             4624\n",
       "need_help         4588\n",
       "congrats          4512\n",
       "good_luck         4389\n",
       "Name: count, dtype: Int64"
      ]
     },
     "execution_count": 25,
     "metadata": {},
     "output_type": "execute_result"
    }
   ],
   "source": [
    "df_log['message'].value_counts()"
   ]
  },
  {
   "cell_type": "code",
   "execution_count": 26,
   "id": "6c33d75b-0e1d-4786-a192-8763d5478d53",
   "metadata": {},
   "outputs": [
    {
     "data": {
      "text/plain": [
       "receiver\n",
       "917794046348    5\n",
       "919190383400    5\n",
       "917657717128    5\n",
       "916866469732    4\n",
       "919541675598    4\n",
       "               ..\n",
       "919106143217    1\n",
       "919141286955    1\n",
       "918000433252    1\n",
       "917207926565    1\n",
       "917385888899    1\n",
       "Name: count, Length: 399980, dtype: Int64"
      ]
     },
     "execution_count": 26,
     "metadata": {},
     "output_type": "execute_result"
    }
   ],
   "source": [
    "df_log['receiver'].value_counts()"
   ]
  },
  {
   "cell_type": "code",
   "execution_count": 27,
   "id": "dc9841db-5da2-498e-8885-16b61e49cb9e",
   "metadata": {},
   "outputs": [
    {
     "data": {
      "text/plain": [
       "timestamp\n",
       "2025-08-27 19:20:00    39\n",
       "2025-08-29 14:13:00    38\n",
       "2025-08-31 03:34:00    38\n",
       "2025-08-30 00:46:00    38\n",
       "2025-08-29 15:19:00    38\n",
       "                       ..\n",
       "2025-09-26 00:08:00     1\n",
       "2025-09-27 20:19:00     1\n",
       "2025-09-24 12:34:00     1\n",
       "2025-09-28 23:19:00     1\n",
       "2025-09-29 05:51:00     1\n",
       "Name: count, Length: 49865, dtype: int64"
      ]
     },
     "execution_count": 27,
     "metadata": {},
     "output_type": "execute_result"
    }
   ],
   "source": [
    "df_log['timestamp'].value_counts()"
   ]
  },
  {
   "cell_type": "code",
   "execution_count": 28,
   "id": "c4212f2a-9a54-4f71-a61f-0861ba4a171b",
   "metadata": {},
   "outputs": [
    {
     "data": {
      "text/plain": [
       "status\n",
       "sent    420000\n",
       "Name: count, dtype: Int64"
      ]
     },
     "execution_count": 28,
     "metadata": {},
     "output_type": "execute_result"
    }
   ],
   "source": [
    "df_log['status'].value_counts()"
   ]
  },
  {
   "cell_type": "markdown",
   "id": "2f1a4c48-5a50-49cc-a5f9-1642989f472e",
   "metadata": {},
   "source": [
    "## Visualization"
   ]
  },
  {
   "cell_type": "markdown",
   "id": "63eef8e9-08ee-4a19-a4c2-d16ed76f1855",
   "metadata": {},
   "source": [
    "## 1.Most fequently used messages"
   ]
  },
  {
   "cell_type": "code",
   "execution_count": 29,
   "id": "7b23d13c-e38a-49f5-b954-6359aa7d7294",
   "metadata": {},
   "outputs": [
    {
     "data": {
      "image/png": "[encoded data removed]",
      "text/plain": [
       "<Figure size 1677.78x500 with 1 Axes>"
      ]
     },
     "metadata": {},
     "output_type": "display_data"
    },
    {
     "data": {
      "text/plain": [
       "message\n",
       "hi               67897\n",
       "hello            54252\n",
       "okay             45292\n",
       "thanks           35901\n",
       "bye              31570\n",
       "sure             26920\n",
       "hey              22448\n",
       "sorry            22356\n",
       "good_morning     18105\n",
       "good_evening     13775\n",
       "see_you_later    13681\n",
       "love_you         13445\n",
       "on_my_way         9134\n",
       "call_me           9063\n",
       "miss_you          9053\n",
       "good_night        8995\n",
       "enjoy             4624\n",
       "need_help         4588\n",
       "congrats          4512\n",
       "good_luck         4389\n",
       "Name: count, dtype: Int64"
      ]
     },
     "execution_count": 29,
     "metadata": {},
     "output_type": "execute_result"
    }
   ],
   "source": [
    "data = df_log\n",
    "message_desc = df_log['message'].value_counts().index\n",
    "# index attribute is used to get order\n",
    "sns.catplot( data = data,x = 'message' ,kind='count',order=message_desc,aspect=10/3)\n",
    "plt.xticks(rotation = 45)\n",
    "plt.show()\n",
    "df_log['message'].value_counts()\n",
    "# from this we clearly see that messages like 'hi','hello','okay','thanks','bye', 'sure' are the most fequently top 6 used messages\n",
    "# from this outliers are 'gooo_luck' ,'congrats','need_help','enjow'"
   ]
  },
  {
   "cell_type": "markdown",
   "id": "c7693147-ccb8-4551-aa14-2b928da88fcc",
   "metadata": {},
   "source": [
    "## 2. Time-Based Activity Patterns\n"
   ]
  },
  {
   "cell_type": "code",
   "execution_count": 30,
   "id": "b2a97e31-d714-463d-8000-5828233510af",
   "metadata": {},
   "outputs": [
    {
     "data": {
      "text/html": [
       "<div>\n",
       "<style scoped>\n",
       "    .dataframe tbody tr th:only-of-type {\n",
       "        vertical-align: middle;\n",
       "    }\n",
       "\n",
       "    .dataframe tbody tr th {\n",
       "        vertical-align: top;\n",
       "    }\n",
       "\n",
       "    .dataframe thead th {\n",
       "        text-align: right;\n",
       "    }\n",
       "</style>\n",
       "<table border=\"1\" class=\"dataframe\">\n",
       "  <thead>\n",
       "    <tr style=\"text-align: right;\">\n",
       "      <th></th>\n",
       "      <th>timestamp</th>\n",
       "      <th>receiver</th>\n",
       "      <th>status</th>\n",
       "      <th>message</th>\n",
       "    </tr>\n",
       "  </thead>\n",
       "  <tbody>\n",
       "    <tr>\n",
       "      <th>419995</th>\n",
       "      <td>2025-09-05 19:10:00</td>\n",
       "      <td>917892499523</td>\n",
       "      <td>sent</td>\n",
       "      <td>sorry</td>\n",
       "    </tr>\n",
       "    <tr>\n",
       "      <th>419996</th>\n",
       "      <td>2025-09-10 07:44:00</td>\n",
       "      <td>919141286955</td>\n",
       "      <td>sent</td>\n",
       "      <td>congrats</td>\n",
       "    </tr>\n",
       "    <tr>\n",
       "      <th>419997</th>\n",
       "      <td>2025-09-08 16:35:00</td>\n",
       "      <td>918000433252</td>\n",
       "      <td>sent</td>\n",
       "      <td>hello</td>\n",
       "    </tr>\n",
       "    <tr>\n",
       "      <th>419998</th>\n",
       "      <td>2025-09-20 15:15:00</td>\n",
       "      <td>917207926565</td>\n",
       "      <td>sent</td>\n",
       "      <td>good_evening</td>\n",
       "    </tr>\n",
       "    <tr>\n",
       "      <th>419999</th>\n",
       "      <td>2025-08-30 16:19:00</td>\n",
       "      <td>917385888899</td>\n",
       "      <td>sent</td>\n",
       "      <td>hey</td>\n",
       "    </tr>\n",
       "  </tbody>\n",
       "</table>\n",
       "</div>"
      ],
      "text/plain": [
       "                 timestamp      receiver status       message\n",
       "419995 2025-09-05 19:10:00  917892499523   sent         sorry\n",
       "419996 2025-09-10 07:44:00  919141286955   sent      congrats\n",
       "419997 2025-09-08 16:35:00  918000433252   sent         hello\n",
       "419998 2025-09-20 15:15:00  917207926565   sent  good_evening\n",
       "419999 2025-08-30 16:19:00  917385888899   sent           hey"
      ]
     },
     "execution_count": 30,
     "metadata": {},
     "output_type": "execute_result"
    }
   ],
   "source": [
    "df_log.tail()"
   ]
  },
  {
   "cell_type": "code",
   "execution_count": 31,
   "id": "5d56d8b6-6c11-4125-b927-f7e78ad487a8",
   "metadata": {},
   "outputs": [],
   "source": [
    "# df_log.drop(columns='hours',inplace=True)"
   ]
  },
  {
   "cell_type": "code",
   "execution_count": 32,
   "id": "1771746e-c545-41a3-b092-daf2a21345da",
   "metadata": {},
   "outputs": [],
   "source": [
    "data_hours = df_log['timestamp'].apply(lambda x : x.hour)"
   ]
  },
  {
   "cell_type": "code",
   "execution_count": 33,
   "id": "db9ee5cb-52d8-4d81-8725-fc8e5addf08c",
   "metadata": {},
   "outputs": [
    {
     "data": {
      "text/plain": [
       "<Axes: xlabel='timestamp', ylabel='Count'>"
      ]
     },
     "execution_count": 33,
     "metadata": {},
     "output_type": "execute_result"
    },
    {
     "data": {
      "image/png": "[encoded data removed]",
      "text/plain": [
       "<Figure size 640x480 with 1 Axes>"
      ]
     },
     "metadata": {},
     "output_type": "display_data"
    }
   ],
   "source": [
    "sns.histplot(x = data_hours,kde = True,bins=24)"
   ]
  },
  {
   "cell_type": "code",
   "execution_count": 34,
   "id": "4aad7e7d-b22e-4f7d-bc1f-6592aba3c9ba",
   "metadata": {},
   "outputs": [],
   "source": [
    "df_log['hour'] = df_log['timestamp'].apply(lambda x : x.hour)"
   ]
  },
  {
   "cell_type": "code",
   "execution_count": 35,
   "id": "0d0dbc4c-a410-4341-8b8e-b3207f66865f",
   "metadata": {},
   "outputs": [
    {
     "data": {
      "text/plain": [
       "<Axes: xlabel='timestamp', ylabel='message'>"
      ]
     },
     "execution_count": 35,
     "metadata": {},
     "output_type": "execute_result"
    },
    {
     "data": {
      "image/png": "[encoded data removed]",
      "text/plain": [
       "<Figure size 640x480 with 1 Axes>"
      ]
     },
     "metadata": {},
     "output_type": "display_data"
    }
   ],
   "source": [
    "count_per_hour = df_log.groupby(\"hour\")[\"message\"].count().reset_index()\n",
    "sns.lineplot(x = data_hours, y = 'message',data = count_per_hour )\n",
    "# from this at 10:00 Am and 23:00PM the messages coutn ae almost decreased \n",
    "# from this plot afteernon time havve more number of messages"
   ]
  },
  {
   "cell_type": "code",
   "execution_count": 36,
   "id": "3ee70ca5-6dd0-445d-9841-397c5ac88147",
   "metadata": {},
   "outputs": [
    {
     "data": {
      "text/html": [
       "<div>\n",
       "<style scoped>\n",
       "    .dataframe tbody tr th:only-of-type {\n",
       "        vertical-align: middle;\n",
       "    }\n",
       "\n",
       "    .dataframe tbody tr th {\n",
       "        vertical-align: top;\n",
       "    }\n",
       "\n",
       "    .dataframe thead th {\n",
       "        text-align: right;\n",
       "    }\n",
       "</style>\n",
       "<table border=\"1\" class=\"dataframe\">\n",
       "  <thead>\n",
       "    <tr style=\"text-align: right;\">\n",
       "      <th></th>\n",
       "      <th>timestamp</th>\n",
       "      <th>receiver</th>\n",
       "      <th>status</th>\n",
       "      <th>message</th>\n",
       "      <th>hour</th>\n",
       "    </tr>\n",
       "  </thead>\n",
       "  <tbody>\n",
       "    <tr>\n",
       "      <th>419995</th>\n",
       "      <td>2025-09-05 19:10:00</td>\n",
       "      <td>917892499523</td>\n",
       "      <td>sent</td>\n",
       "      <td>sorry</td>\n",
       "      <td>19</td>\n",
       "    </tr>\n",
       "    <tr>\n",
       "      <th>419996</th>\n",
       "      <td>2025-09-10 07:44:00</td>\n",
       "      <td>919141286955</td>\n",
       "      <td>sent</td>\n",
       "      <td>congrats</td>\n",
       "      <td>7</td>\n",
       "    </tr>\n",
       "    <tr>\n",
       "      <th>419997</th>\n",
       "      <td>2025-09-08 16:35:00</td>\n",
       "      <td>918000433252</td>\n",
       "      <td>sent</td>\n",
       "      <td>hello</td>\n",
       "      <td>16</td>\n",
       "    </tr>\n",
       "    <tr>\n",
       "      <th>419998</th>\n",
       "      <td>2025-09-20 15:15:00</td>\n",
       "      <td>917207926565</td>\n",
       "      <td>sent</td>\n",
       "      <td>good_evening</td>\n",
       "      <td>15</td>\n",
       "    </tr>\n",
       "    <tr>\n",
       "      <th>419999</th>\n",
       "      <td>2025-08-30 16:19:00</td>\n",
       "      <td>917385888899</td>\n",
       "      <td>sent</td>\n",
       "      <td>hey</td>\n",
       "      <td>16</td>\n",
       "    </tr>\n",
       "  </tbody>\n",
       "</table>\n",
       "</div>"
      ],
      "text/plain": [
       "                 timestamp      receiver status       message  hour\n",
       "419995 2025-09-05 19:10:00  917892499523   sent         sorry    19\n",
       "419996 2025-09-10 07:44:00  919141286955   sent      congrats     7\n",
       "419997 2025-09-08 16:35:00  918000433252   sent         hello    16\n",
       "419998 2025-09-20 15:15:00  917207926565   sent  good_evening    15\n",
       "419999 2025-08-30 16:19:00  917385888899   sent           hey    16"
      ]
     },
     "execution_count": 36,
     "metadata": {},
     "output_type": "execute_result"
    }
   ],
   "source": [
    "df_log.tail()"
   ]
  },
  {
   "cell_type": "code",
   "execution_count": 37,
   "id": "022fd988-de66-4da3-bb7a-175f762f664a",
   "metadata": {},
   "outputs": [],
   "source": [
    "c = df_log.groupby(['hour','message']).agg(count = ('message' ,'count'))"
   ]
  },
  {
   "cell_type": "code",
   "execution_count": 38,
   "id": "8fa1d2b9-bbf3-4b3c-92b3-534ad44468dc",
   "metadata": {},
   "outputs": [
    {
     "data": {
      "text/html": [
       "<div>\n",
       "<style scoped>\n",
       "    .dataframe tbody tr th:only-of-type {\n",
       "        vertical-align: middle;\n",
       "    }\n",
       "\n",
       "    .dataframe tbody tr th {\n",
       "        vertical-align: top;\n",
       "    }\n",
       "\n",
       "    .dataframe thead th {\n",
       "        text-align: right;\n",
       "    }\n",
       "</style>\n",
       "<table border=\"1\" class=\"dataframe\">\n",
       "  <thead>\n",
       "    <tr style=\"text-align: right;\">\n",
       "      <th></th>\n",
       "      <th></th>\n",
       "      <th>count</th>\n",
       "    </tr>\n",
       "    <tr>\n",
       "      <th>hour</th>\n",
       "      <th>message</th>\n",
       "      <th></th>\n",
       "    </tr>\n",
       "  </thead>\n",
       "  <tbody>\n",
       "    <tr>\n",
       "      <th rowspan=\"5\" valign=\"top\">0</th>\n",
       "      <th>bye</th>\n",
       "      <td>1357</td>\n",
       "    </tr>\n",
       "    <tr>\n",
       "      <th>call_me</th>\n",
       "      <td>390</td>\n",
       "    </tr>\n",
       "    <tr>\n",
       "      <th>congrats</th>\n",
       "      <td>192</td>\n",
       "    </tr>\n",
       "    <tr>\n",
       "      <th>enjoy</th>\n",
       "      <td>198</td>\n",
       "    </tr>\n",
       "    <tr>\n",
       "      <th>good_evening</th>\n",
       "      <td>621</td>\n",
       "    </tr>\n",
       "    <tr>\n",
       "      <th>...</th>\n",
       "      <th>...</th>\n",
       "      <td>...</td>\n",
       "    </tr>\n",
       "    <tr>\n",
       "      <th rowspan=\"5\" valign=\"top\">23</th>\n",
       "      <th>on_my_way</th>\n",
       "      <td>388</td>\n",
       "    </tr>\n",
       "    <tr>\n",
       "      <th>see_you_later</th>\n",
       "      <td>619</td>\n",
       "    </tr>\n",
       "    <tr>\n",
       "      <th>sorry</th>\n",
       "      <td>929</td>\n",
       "    </tr>\n",
       "    <tr>\n",
       "      <th>sure</th>\n",
       "      <td>1148</td>\n",
       "    </tr>\n",
       "    <tr>\n",
       "      <th>thanks</th>\n",
       "      <td>1496</td>\n",
       "    </tr>\n",
       "  </tbody>\n",
       "</table>\n",
       "<p>480 rows × 1 columns</p>\n",
       "</div>"
      ],
      "text/plain": [
       "                    count\n",
       "hour message             \n",
       "0    bye             1357\n",
       "     call_me          390\n",
       "     congrats         192\n",
       "     enjoy            198\n",
       "     good_evening     621\n",
       "...                   ...\n",
       "23   on_my_way        388\n",
       "     see_you_later    619\n",
       "     sorry            929\n",
       "     sure            1148\n",
       "     thanks          1496\n",
       "\n",
       "[480 rows x 1 columns]"
      ]
     },
     "execution_count": 38,
     "metadata": {},
     "output_type": "execute_result"
    }
   ],
   "source": [
    "c"
   ]
  },
  {
   "cell_type": "markdown",
   "id": "ef67b19d-a1a0-4fce-a2b5-0d8d9b57656b",
   "metadata": {},
   "source": [
    "### 3.Receiver Analysis: Most contacted numbers"
   ]
  },
  {
   "cell_type": "code",
   "execution_count": 39,
   "id": "259c3aaf-9736-4b98-889f-87ae41424db7",
   "metadata": {},
   "outputs": [
    {
     "data": {
      "text/plain": [
       "receiver\n",
       "917794046348    5\n",
       "919190383400    5\n",
       "917657717128    5\n",
       "916866469732    4\n",
       "919541675598    4\n",
       "               ..\n",
       "919106143217    1\n",
       "919141286955    1\n",
       "918000433252    1\n",
       "917207926565    1\n",
       "917385888899    1\n",
       "Name: count, Length: 399980, dtype: Int64"
      ]
     },
     "execution_count": 39,
     "metadata": {},
     "output_type": "execute_result"
    }
   ],
   "source": [
    "df_log['receiver'].value_counts()"
   ]
  },
  {
   "cell_type": "code",
   "execution_count": 56,
   "id": "0e13b25c-5f21-4c16-8b89-4b79b42e0935",
   "metadata": {},
   "outputs": [
    {
     "data": {
      "image/png": "[encoded data removed]",
      "text/plain": [
       "<Figure size 640x480 with 1 Axes>"
      ]
     },
     "metadata": {},
     "output_type": "display_data"
    }
   ],
   "source": [
    "b = df_log.groupby('receiver').agg(frq = ('receiver','count')).sort_values(\"frq\", ascending=False)\n",
    "sns.set_style('darkgrid')\n",
    "sns.barplot(x= 'receiver',y = 'frq' ,data = b.head(10) )\n",
    "plt.xticks(rotation = 90)\n",
    "plt.show()\n",
    "# top receivers across ALL data"
   ]
  },
  {
   "cell_type": "code",
   "execution_count": null,
   "id": "0178c19f-6a94-4f10-b297-a22cbef66243",
   "metadata": {},
   "outputs": [],
   "source": []
  },
  {
   "cell_type": "code",
   "execution_count": null,
   "id": "11482014-2544-4d27-8e62-4e5cb66c6689",
   "metadata": {},
   "outputs": [],
   "source": []
  },
  {
   "cell_type": "code",
   "execution_count": null,
   "id": "a1fdb660-3959-43b3-b6c6-b3c5a1b628bd",
   "metadata": {},
   "outputs": [],
   "source": []
  },
  {
   "cell_type": "code",
   "execution_count": null,
   "id": "25cc7554-0c03-4ff0-b25e-87179bb41cab",
   "metadata": {},
   "outputs": [],
   "source": []
  }
 ],
 "metadata": {
  "kernelspec": {
   "display_name": "Python [conda env:base] *",
   "language": "python",
   "name": "conda-base-py"
  },
  "language_info": {
   "codemirror_mode": {
    "name": "ipython",
    "version": 3
   },
   "file_extension": ".py",
   "mimetype": "text/x-python",
   "name": "python",
   "nbconvert_exporter": "python",
   "pygments_lexer": "ipython3",
   "version": "3.13.5"
  }
 },
 "nbformat": 4,
 "nbformat_minor": 5
}
